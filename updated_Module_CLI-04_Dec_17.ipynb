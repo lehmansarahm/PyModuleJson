{
 "cells": [
  {
   "cell_type": "code",
   "execution_count": 4,
   "metadata": {
    "collapsed": true
   },
   "outputs": [],
   "source": [
    "import csv\n",
    "import json\n",
    "import pandas as pd\n"
   ]
  },
  {
   "cell_type": "code",
   "execution_count": 5,
   "metadata": {},
   "outputs": [
    {
     "name": "stdout",
     "output_type": "stream",
     "text": [
      "[['Activity', 'StartTime', 'Duration', 'MovementSpeed'], ['Stir', '25:25.6', '2.1', '1.573'], ['Pour', '26:12.1', '1.5', '1.25'], ['Stir', '29:14.4', '2.7', '1.947'], ['Stir', '40:28.4', '3.1', '1.462'], ['Stir', '41:27.3', '5.3', '1.472'], ['Pour', '45:21.2', '1.1', '1.037'], ['Walk', '23:21.0', '2.3', '1.337']]\n"
     ]
    }
   ],
   "source": [
    "with open(\"/Users/user/Documents/workspace/Jupyter-Demo/Sample1.csv\", \"r\") as f1:\n",
    "    reader = csv.reader(f1)\n",
    "    csv_data = list(reader)\n",
    "\n",
    "print(csv_data)"
   ]
  },
  {
   "cell_type": "code",
   "execution_count": 6,
   "metadata": {},
   "outputs": [
    {
     "name": "stdout",
     "output_type": "stream",
     "text": [
      "{'Policy1': [{'action': 'Stir', 'duration': 2.0, 'movespeed': 0.1}, {'action': 'Pour', 'duration': 1.2, 'movespeed': 0.02}, {'action': 'Stir', 'duration': 1.0, 'movespeed': 0.124}, {'constraints': [{'maxduration': 5.0, 'enforceorder': 'TRUE'}]}]}\n"
     ]
    }
   ],
   "source": [
    "with open('/Users/user/Documents/workspace/Jupyter-Demo/policy2.json') as f2:\n",
    "    new_data = json.load(f2)\n",
    "    \n",
    "print(new_data)"
   ]
  },
  {
   "cell_type": "code",
   "execution_count": 7,
   "metadata": {},
   "outputs": [
    {
     "data": {
      "text/plain": [
       "[{'action': 'Stir', 'duration': 2.0, 'movespeed': 0.1},\n",
       " {'action': 'Pour', 'duration': 1.2, 'movespeed': 0.02},\n",
       " {'action': 'Stir', 'duration': 1.0, 'movespeed': 0.124},\n",
       " {'constraints': [{'enforceorder': 'TRUE', 'maxduration': 5.0}]}]"
      ]
     },
     "execution_count": 7,
     "metadata": {},
     "output_type": "execute_result"
    }
   ],
   "source": [
    "new_json = new_data['Policy1']\n",
    "json_data = list(new_json)\n",
    "json_data"
   ]
  },
  {
   "cell_type": "code",
   "execution_count": 8,
   "metadata": {},
   "outputs": [
    {
     "data": {
      "text/plain": [
       "[['Activity', 'StartTime', 'Duration', 'MovementSpeed'],\n",
       " ['Stir', '25:25.6', '2.1', '1.573'],\n",
       " ['Pour', '26:12.1', '1.5', '1.25'],\n",
       " ['Stir', '29:14.4', '2.7', '1.947'],\n",
       " ['Stir', '40:28.4', '3.1', '1.462'],\n",
       " ['Stir', '41:27.3', '5.3', '1.472'],\n",
       " ['Pour', '45:21.2', '1.1', '1.037'],\n",
       " ['Walk', '23:21.0', '2.3', '1.337']]"
      ]
     },
     "execution_count": 8,
     "metadata": {},
     "output_type": "execute_result"
    }
   ],
   "source": [
    "csv_data"
   ]
  },
  {
   "cell_type": "markdown",
   "metadata": {},
   "source": [
    "**Rearrange data from csv by columns**"
   ]
  },
  {
   "cell_type": "code",
   "execution_count": 9,
   "metadata": {
    "collapsed": true
   },
   "outputs": [],
   "source": [
    "#For the activity column\n",
    "csv_activity_col = [row[0] for row in csv_data]\n",
    "\n",
    "#For the duration column\n",
    "csv_duration_col = [row[2] for row in csv_data]\n",
    "\n",
    "#For the movementspeed column\n",
    "csv_movespeed_col = [row[3] for row in csv_data]\n",
    "\n"
   ]
  },
  {
   "cell_type": "markdown",
   "metadata": {},
   "source": [
    "**Rerrange data from json by columns**"
   ]
  },
  {
   "cell_type": "code",
   "execution_count": 10,
   "metadata": {
    "collapsed": true
   },
   "outputs": [],
   "source": [
    "#For the activity column\n",
    "#json_activity_col = json_data[0]['action']\n",
    "\n",
    "#For the duration column\n",
    "#json_data[0]['duration']\n",
    "\n",
    "#For the movementspeed column\n",
    "#json_data[0]['movespeed']"
   ]
  },
  {
   "cell_type": "markdown",
   "metadata": {},
   "source": [
    "**Initializing Conditions for test**"
   ]
  },
  {
   "cell_type": "code",
   "execution_count": 11,
   "metadata": {
    "collapsed": true
   },
   "outputs": [],
   "source": [
    "action = False\n",
    "duration = False\n",
    "movement = False\n",
    "max_duration = False\n",
    "AAsequence = False"
   ]
  },
  {
   "cell_type": "markdown",
   "metadata": {},
   "source": [
    "**Initializing new lists for Action, Duration and Movespeed**"
   ]
  },
  {
   "cell_type": "code",
   "execution_count": 31,
   "metadata": {
    "collapsed": true
   },
   "outputs": [],
   "source": [
    "new_actions = []\n",
    "for item1 in csv_activity_col[1:]:\n",
    "    new_actions.append(item1)"
   ]
  },
  {
   "cell_type": "code",
   "execution_count": 13,
   "metadata": {
    "collapsed": true
   },
   "outputs": [],
   "source": [
    "new_durations = []\n",
    "for item2 in csv_duration_col[1:]:\n",
    "\tnew_durations.append(float(item2))"
   ]
  },
  {
   "cell_type": "code",
   "execution_count": 14,
   "metadata": {
    "collapsed": true
   },
   "outputs": [],
   "source": [
    "new_movement = []\n",
    "for item3 in csv_movespeed_col[1:]:\n",
    "\tnew_movement.append(float(item3))"
   ]
  },
  {
   "cell_type": "markdown",
   "metadata": {},
   "source": [
    "**SCENARIO 1: Testing Condition for Sequence of Actions, duration, movement and constraints**\n",
    "[Identifying whether a sequence of AAs plus constraints are present in a trace (one true, one false)]"
   ]
  },
  {
   "cell_type": "code",
   "execution_count": 15,
   "metadata": {},
   "outputs": [
    {
     "name": "stdout",
     "output_type": "stream",
     "text": [
      "Output from classifier passed all policy rules,TRUE\n"
     ]
    }
   ],
   "source": [
    "if (new_actions[0] == json_data[0]['action'] and new_actions[1] == json_data[1]['action'] \n",
    "    and new_actions[2]  == json_data[2]['action']  ):\n",
    "    action = True\n",
    "    if (new_durations[0] >= json_data[0]['duration']  and new_durations[1] >= json_data[1]['duration']\n",
    "        and new_durations[2] >= json_data[2]['duration']):\n",
    "        duration = True\n",
    "        if (new_movement[0] >= json_data[0]['movespeed']  and new_movement[1] >= json_data[1]['movespeed']\n",
    "            and new_movement[2] >= json_data[2]['movespeed']):\n",
    "            movement = True\n",
    "            \n",
    "            #Calculating maximum duration\n",
    "            total_duration = [new_durations[0],new_durations[1],new_durations[2]]\n",
    "            if (sum(total_duration) >= 5.00):\n",
    "                max_duration = True\n",
    "                \n",
    "if (action and duration and movement and max_duration):\n",
    "    print('Output from classifier passed all policy rules,' 'TRUE')\n",
    "else:\n",
    "    print('Output from classifier failed all policy rules,' 'FALSE')"
   ]
  },
  {
   "cell_type": "markdown",
   "metadata": {},
   "source": [
    "**SCENARIO 2: Testing Condition for Sequence of Actions, duration and movement ** [Identifying whether a sequence of AAs from a config are present in a trace (one true, one false)]"
   ]
  },
  {
   "cell_type": "code",
   "execution_count": 16,
   "metadata": {},
   "outputs": [
    {
     "name": "stdout",
     "output_type": "stream",
     "text": [
      "Sequence of AAs from a config are present in a trace,TRUE\n"
     ]
    }
   ],
   "source": [
    "if (new_actions[0] == json_data[0]['action'] and new_actions[1] == json_data[1]['action'] \n",
    "    and new_actions[2]  == json_data[2]['action']  ):\n",
    "    action = True\n",
    "    if (new_durations[0] >= json_data[0]['duration']  and new_durations[1] >= json_data[1]['duration']\n",
    "        and new_durations[2] >= json_data[2]['duration']):\n",
    "        duration = True\n",
    "        if (new_movement[0] >= json_data[0]['movespeed']  and new_movement[1] >= json_data[1]['movespeed']\n",
    "            and new_movement[2] >= json_data[2]['movespeed']):\n",
    "            movement = True\n",
    "                \n",
    "if (action and duration and movement):\n",
    "    print('Sequence of AAs from a config are present in a trace,' 'TRUE')\n",
    "else:\n",
    "    print('Sequence of AAs from a config are not present in a trace,' 'FALSE')"
   ]
  },
  {
   "cell_type": "markdown",
   "metadata": {},
   "source": [
    "**SCENARIO 3: Testing condition for any of the actions ** [Identifying whether individual atomic actions are present in a given trace (pour, stir, “dance” [some bogus AA, will return false on purpose])]"
   ]
  },
  {
   "cell_type": "code",
   "execution_count": 73,
   "metadata": {},
   "outputs": [
    {
     "name": "stdout",
     "output_type": "stream",
     "text": [
      "Stir, An AA found\n"
     ]
    }
   ],
   "source": [
    "i = 3\n",
    "\n",
    "if (json_data[0]['action'] == new_actions[0]):\n",
    "     print(new_actions[0] + \",\" + \" \" + \"An AA found\")\n",
    "            \n",
    "elif (json_data[1]['action'] == new_actions[1]):\n",
    "    print(new_actions[1] + \",\" + \" \" + \"An AA found\")\n",
    "            \n",
    "elif (json_data[2]['action'] == new_actions[2]):\n",
    "     print(new_actions[2] + \",\" + \" \" + \"An AA found\")\n",
    "            \n",
    "else:\n",
    "    print(\"An AA found but does not match policy\")\n",
    "   "
   ]
  },
  {
   "cell_type": "code",
   "execution_count": null,
   "metadata": {
    "collapsed": true
   },
   "outputs": [],
   "source": []
  }
 ],
 "metadata": {
  "kernelspec": {
   "display_name": "Python 3",
   "language": "python",
   "name": "python3"
  },
  "language_info": {
   "codemirror_mode": {
    "name": "ipython",
    "version": 3
   },
   "file_extension": ".py",
   "mimetype": "text/x-python",
   "name": "python",
   "nbconvert_exporter": "python",
   "pygments_lexer": "ipython3",
   "version": "3.6.2"
  }
 },
 "nbformat": 4,
 "nbformat_minor": 2
}
